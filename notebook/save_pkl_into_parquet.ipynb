{
  "nbformat": 4,
  "nbformat_minor": 0,
  "metadata": {
    "colab": {
      "provenance": [],
      "authorship_tag": "ABX9TyPj/mrsvfH+zNeCVzyXNjnX",
      "include_colab_link": true
    },
    "kernelspec": {
      "name": "python3",
      "display_name": "Python 3"
    },
    "language_info": {
      "name": "python"
    },
    "widgets": {
      "application/vnd.jupyter.widget-state+json": {
        "beae13b3e3ea487f94106f7cd0a53131": {
          "model_module": "@jupyter-widgets/controls",
          "model_name": "HBoxModel",
          "model_module_version": "1.5.0",
          "state": {
            "_dom_classes": [],
            "_model_module": "@jupyter-widgets/controls",
            "_model_module_version": "1.5.0",
            "_model_name": "HBoxModel",
            "_view_count": null,
            "_view_module": "@jupyter-widgets/controls",
            "_view_module_version": "1.5.0",
            "_view_name": "HBoxView",
            "box_style": "",
            "children": [
              "IPY_MODEL_697c52f930cf415995e32a194ca1bb32",
              "IPY_MODEL_6a99cf24446444d3a21c3f569fc06f10",
              "IPY_MODEL_b324e701e6f9468e805f7cf309399168"
            ],
            "layout": "IPY_MODEL_3cafaa24e18f4ea886163dfcee36b989"
          }
        },
        "697c52f930cf415995e32a194ca1bb32": {
          "model_module": "@jupyter-widgets/controls",
          "model_name": "HTMLModel",
          "model_module_version": "1.5.0",
          "state": {
            "_dom_classes": [],
            "_model_module": "@jupyter-widgets/controls",
            "_model_module_version": "1.5.0",
            "_model_name": "HTMLModel",
            "_view_count": null,
            "_view_module": "@jupyter-widgets/controls",
            "_view_module_version": "1.5.0",
            "_view_name": "HTMLView",
            "description": "",
            "description_tooltip": null,
            "layout": "IPY_MODEL_b9878b86d2b24b72a4d6c02989478c6d",
            "placeholder": "​",
            "style": "IPY_MODEL_2f7f90b39f3e43718b1dd70f5a2eb260",
            "value": "Downloading readme: 100%"
          }
        },
        "6a99cf24446444d3a21c3f569fc06f10": {
          "model_module": "@jupyter-widgets/controls",
          "model_name": "FloatProgressModel",
          "model_module_version": "1.5.0",
          "state": {
            "_dom_classes": [],
            "_model_module": "@jupyter-widgets/controls",
            "_model_module_version": "1.5.0",
            "_model_name": "FloatProgressModel",
            "_view_count": null,
            "_view_module": "@jupyter-widgets/controls",
            "_view_module_version": "1.5.0",
            "_view_name": "ProgressView",
            "bar_style": "success",
            "description": "",
            "description_tooltip": null,
            "layout": "IPY_MODEL_5a21d5cc7dd8494d8c1aabf147b87daa",
            "max": 28,
            "min": 0,
            "orientation": "horizontal",
            "style": "IPY_MODEL_f38fbb67d38a408db407c29bca704289",
            "value": 28
          }
        },
        "b324e701e6f9468e805f7cf309399168": {
          "model_module": "@jupyter-widgets/controls",
          "model_name": "HTMLModel",
          "model_module_version": "1.5.0",
          "state": {
            "_dom_classes": [],
            "_model_module": "@jupyter-widgets/controls",
            "_model_module_version": "1.5.0",
            "_model_name": "HTMLModel",
            "_view_count": null,
            "_view_module": "@jupyter-widgets/controls",
            "_view_module_version": "1.5.0",
            "_view_name": "HTMLView",
            "description": "",
            "description_tooltip": null,
            "layout": "IPY_MODEL_76e5e6bf2ca442aea42a60090e11a0ab",
            "placeholder": "​",
            "style": "IPY_MODEL_94d82de1021f449daec4ba7907830c1d",
            "value": " 28.0/28.0 [00:00&lt;00:00, 973B/s]"
          }
        },
        "3cafaa24e18f4ea886163dfcee36b989": {
          "model_module": "@jupyter-widgets/base",
          "model_name": "LayoutModel",
          "model_module_version": "1.2.0",
          "state": {
            "_model_module": "@jupyter-widgets/base",
            "_model_module_version": "1.2.0",
            "_model_name": "LayoutModel",
            "_view_count": null,
            "_view_module": "@jupyter-widgets/base",
            "_view_module_version": "1.2.0",
            "_view_name": "LayoutView",
            "align_content": null,
            "align_items": null,
            "align_self": null,
            "border": null,
            "bottom": null,
            "display": null,
            "flex": null,
            "flex_flow": null,
            "grid_area": null,
            "grid_auto_columns": null,
            "grid_auto_flow": null,
            "grid_auto_rows": null,
            "grid_column": null,
            "grid_gap": null,
            "grid_row": null,
            "grid_template_areas": null,
            "grid_template_columns": null,
            "grid_template_rows": null,
            "height": null,
            "justify_content": null,
            "justify_items": null,
            "left": null,
            "margin": null,
            "max_height": null,
            "max_width": null,
            "min_height": null,
            "min_width": null,
            "object_fit": null,
            "object_position": null,
            "order": null,
            "overflow": null,
            "overflow_x": null,
            "overflow_y": null,
            "padding": null,
            "right": null,
            "top": null,
            "visibility": null,
            "width": null
          }
        },
        "b9878b86d2b24b72a4d6c02989478c6d": {
          "model_module": "@jupyter-widgets/base",
          "model_name": "LayoutModel",
          "model_module_version": "1.2.0",
          "state": {
            "_model_module": "@jupyter-widgets/base",
            "_model_module_version": "1.2.0",
            "_model_name": "LayoutModel",
            "_view_count": null,
            "_view_module": "@jupyter-widgets/base",
            "_view_module_version": "1.2.0",
            "_view_name": "LayoutView",
            "align_content": null,
            "align_items": null,
            "align_self": null,
            "border": null,
            "bottom": null,
            "display": null,
            "flex": null,
            "flex_flow": null,
            "grid_area": null,
            "grid_auto_columns": null,
            "grid_auto_flow": null,
            "grid_auto_rows": null,
            "grid_column": null,
            "grid_gap": null,
            "grid_row": null,
            "grid_template_areas": null,
            "grid_template_columns": null,
            "grid_template_rows": null,
            "height": null,
            "justify_content": null,
            "justify_items": null,
            "left": null,
            "margin": null,
            "max_height": null,
            "max_width": null,
            "min_height": null,
            "min_width": null,
            "object_fit": null,
            "object_position": null,
            "order": null,
            "overflow": null,
            "overflow_x": null,
            "overflow_y": null,
            "padding": null,
            "right": null,
            "top": null,
            "visibility": null,
            "width": null
          }
        },
        "2f7f90b39f3e43718b1dd70f5a2eb260": {
          "model_module": "@jupyter-widgets/controls",
          "model_name": "DescriptionStyleModel",
          "model_module_version": "1.5.0",
          "state": {
            "_model_module": "@jupyter-widgets/controls",
            "_model_module_version": "1.5.0",
            "_model_name": "DescriptionStyleModel",
            "_view_count": null,
            "_view_module": "@jupyter-widgets/base",
            "_view_module_version": "1.2.0",
            "_view_name": "StyleView",
            "description_width": ""
          }
        },
        "5a21d5cc7dd8494d8c1aabf147b87daa": {
          "model_module": "@jupyter-widgets/base",
          "model_name": "LayoutModel",
          "model_module_version": "1.2.0",
          "state": {
            "_model_module": "@jupyter-widgets/base",
            "_model_module_version": "1.2.0",
            "_model_name": "LayoutModel",
            "_view_count": null,
            "_view_module": "@jupyter-widgets/base",
            "_view_module_version": "1.2.0",
            "_view_name": "LayoutView",
            "align_content": null,
            "align_items": null,
            "align_self": null,
            "border": null,
            "bottom": null,
            "display": null,
            "flex": null,
            "flex_flow": null,
            "grid_area": null,
            "grid_auto_columns": null,
            "grid_auto_flow": null,
            "grid_auto_rows": null,
            "grid_column": null,
            "grid_gap": null,
            "grid_row": null,
            "grid_template_areas": null,
            "grid_template_columns": null,
            "grid_template_rows": null,
            "height": null,
            "justify_content": null,
            "justify_items": null,
            "left": null,
            "margin": null,
            "max_height": null,
            "max_width": null,
            "min_height": null,
            "min_width": null,
            "object_fit": null,
            "object_position": null,
            "order": null,
            "overflow": null,
            "overflow_x": null,
            "overflow_y": null,
            "padding": null,
            "right": null,
            "top": null,
            "visibility": null,
            "width": null
          }
        },
        "f38fbb67d38a408db407c29bca704289": {
          "model_module": "@jupyter-widgets/controls",
          "model_name": "ProgressStyleModel",
          "model_module_version": "1.5.0",
          "state": {
            "_model_module": "@jupyter-widgets/controls",
            "_model_module_version": "1.5.0",
            "_model_name": "ProgressStyleModel",
            "_view_count": null,
            "_view_module": "@jupyter-widgets/base",
            "_view_module_version": "1.2.0",
            "_view_name": "StyleView",
            "bar_color": null,
            "description_width": ""
          }
        },
        "76e5e6bf2ca442aea42a60090e11a0ab": {
          "model_module": "@jupyter-widgets/base",
          "model_name": "LayoutModel",
          "model_module_version": "1.2.0",
          "state": {
            "_model_module": "@jupyter-widgets/base",
            "_model_module_version": "1.2.0",
            "_model_name": "LayoutModel",
            "_view_count": null,
            "_view_module": "@jupyter-widgets/base",
            "_view_module_version": "1.2.0",
            "_view_name": "LayoutView",
            "align_content": null,
            "align_items": null,
            "align_self": null,
            "border": null,
            "bottom": null,
            "display": null,
            "flex": null,
            "flex_flow": null,
            "grid_area": null,
            "grid_auto_columns": null,
            "grid_auto_flow": null,
            "grid_auto_rows": null,
            "grid_column": null,
            "grid_gap": null,
            "grid_row": null,
            "grid_template_areas": null,
            "grid_template_columns": null,
            "grid_template_rows": null,
            "height": null,
            "justify_content": null,
            "justify_items": null,
            "left": null,
            "margin": null,
            "max_height": null,
            "max_width": null,
            "min_height": null,
            "min_width": null,
            "object_fit": null,
            "object_position": null,
            "order": null,
            "overflow": null,
            "overflow_x": null,
            "overflow_y": null,
            "padding": null,
            "right": null,
            "top": null,
            "visibility": null,
            "width": null
          }
        },
        "94d82de1021f449daec4ba7907830c1d": {
          "model_module": "@jupyter-widgets/controls",
          "model_name": "DescriptionStyleModel",
          "model_module_version": "1.5.0",
          "state": {
            "_model_module": "@jupyter-widgets/controls",
            "_model_module_version": "1.5.0",
            "_model_name": "DescriptionStyleModel",
            "_view_count": null,
            "_view_module": "@jupyter-widgets/base",
            "_view_module_version": "1.2.0",
            "_view_name": "StyleView",
            "description_width": ""
          }
        },
        "5a7b9bdf757c4a719e4413c88df17742": {
          "model_module": "@jupyter-widgets/controls",
          "model_name": "HBoxModel",
          "model_module_version": "1.5.0",
          "state": {
            "_dom_classes": [],
            "_model_module": "@jupyter-widgets/controls",
            "_model_module_version": "1.5.0",
            "_model_name": "HBoxModel",
            "_view_count": null,
            "_view_module": "@jupyter-widgets/controls",
            "_view_module_version": "1.5.0",
            "_view_name": "HBoxView",
            "box_style": "",
            "children": [
              "IPY_MODEL_9b9d603d471b4c0a87d09ee289f26efe",
              "IPY_MODEL_bf52bbfd7a79492ca5c3ec1eb05f5ead",
              "IPY_MODEL_0696aeae7c954d0194abc9ae858d6312"
            ],
            "layout": "IPY_MODEL_2748e8c6f3924ec6b4349c3e506af4de"
          }
        },
        "9b9d603d471b4c0a87d09ee289f26efe": {
          "model_module": "@jupyter-widgets/controls",
          "model_name": "HTMLModel",
          "model_module_version": "1.5.0",
          "state": {
            "_dom_classes": [],
            "_model_module": "@jupyter-widgets/controls",
            "_model_module_version": "1.5.0",
            "_model_name": "HTMLModel",
            "_view_count": null,
            "_view_module": "@jupyter-widgets/controls",
            "_view_module_version": "1.5.0",
            "_view_name": "HTMLView",
            "description": "",
            "description_tooltip": null,
            "layout": "IPY_MODEL_3711615804434051ad414e2f320cc6ea",
            "placeholder": "​",
            "style": "IPY_MODEL_bf8979e24db948789ca9f855b6aea997",
            "value": "Downloading data files: 100%"
          }
        },
        "bf52bbfd7a79492ca5c3ec1eb05f5ead": {
          "model_module": "@jupyter-widgets/controls",
          "model_name": "FloatProgressModel",
          "model_module_version": "1.5.0",
          "state": {
            "_dom_classes": [],
            "_model_module": "@jupyter-widgets/controls",
            "_model_module_version": "1.5.0",
            "_model_name": "FloatProgressModel",
            "_view_count": null,
            "_view_module": "@jupyter-widgets/controls",
            "_view_module_version": "1.5.0",
            "_view_name": "ProgressView",
            "bar_style": "success",
            "description": "",
            "description_tooltip": null,
            "layout": "IPY_MODEL_41f671cb2a164eaea77450bdc07f8cca",
            "max": 1,
            "min": 0,
            "orientation": "horizontal",
            "style": "IPY_MODEL_183fefb5331d42d896102ac150352354",
            "value": 1
          }
        },
        "0696aeae7c954d0194abc9ae858d6312": {
          "model_module": "@jupyter-widgets/controls",
          "model_name": "HTMLModel",
          "model_module_version": "1.5.0",
          "state": {
            "_dom_classes": [],
            "_model_module": "@jupyter-widgets/controls",
            "_model_module_version": "1.5.0",
            "_model_name": "HTMLModel",
            "_view_count": null,
            "_view_module": "@jupyter-widgets/controls",
            "_view_module_version": "1.5.0",
            "_view_name": "HTMLView",
            "description": "",
            "description_tooltip": null,
            "layout": "IPY_MODEL_c7667fa6cf884245823d9fd3f2a7be92",
            "placeholder": "​",
            "style": "IPY_MODEL_f4e745ab49884f45a2943ba601ea9c21",
            "value": " 1/1 [00:00&lt;00:00,  1.53it/s]"
          }
        },
        "2748e8c6f3924ec6b4349c3e506af4de": {
          "model_module": "@jupyter-widgets/base",
          "model_name": "LayoutModel",
          "model_module_version": "1.2.0",
          "state": {
            "_model_module": "@jupyter-widgets/base",
            "_model_module_version": "1.2.0",
            "_model_name": "LayoutModel",
            "_view_count": null,
            "_view_module": "@jupyter-widgets/base",
            "_view_module_version": "1.2.0",
            "_view_name": "LayoutView",
            "align_content": null,
            "align_items": null,
            "align_self": null,
            "border": null,
            "bottom": null,
            "display": null,
            "flex": null,
            "flex_flow": null,
            "grid_area": null,
            "grid_auto_columns": null,
            "grid_auto_flow": null,
            "grid_auto_rows": null,
            "grid_column": null,
            "grid_gap": null,
            "grid_row": null,
            "grid_template_areas": null,
            "grid_template_columns": null,
            "grid_template_rows": null,
            "height": null,
            "justify_content": null,
            "justify_items": null,
            "left": null,
            "margin": null,
            "max_height": null,
            "max_width": null,
            "min_height": null,
            "min_width": null,
            "object_fit": null,
            "object_position": null,
            "order": null,
            "overflow": null,
            "overflow_x": null,
            "overflow_y": null,
            "padding": null,
            "right": null,
            "top": null,
            "visibility": null,
            "width": null
          }
        },
        "3711615804434051ad414e2f320cc6ea": {
          "model_module": "@jupyter-widgets/base",
          "model_name": "LayoutModel",
          "model_module_version": "1.2.0",
          "state": {
            "_model_module": "@jupyter-widgets/base",
            "_model_module_version": "1.2.0",
            "_model_name": "LayoutModel",
            "_view_count": null,
            "_view_module": "@jupyter-widgets/base",
            "_view_module_version": "1.2.0",
            "_view_name": "LayoutView",
            "align_content": null,
            "align_items": null,
            "align_self": null,
            "border": null,
            "bottom": null,
            "display": null,
            "flex": null,
            "flex_flow": null,
            "grid_area": null,
            "grid_auto_columns": null,
            "grid_auto_flow": null,
            "grid_auto_rows": null,
            "grid_column": null,
            "grid_gap": null,
            "grid_row": null,
            "grid_template_areas": null,
            "grid_template_columns": null,
            "grid_template_rows": null,
            "height": null,
            "justify_content": null,
            "justify_items": null,
            "left": null,
            "margin": null,
            "max_height": null,
            "max_width": null,
            "min_height": null,
            "min_width": null,
            "object_fit": null,
            "object_position": null,
            "order": null,
            "overflow": null,
            "overflow_x": null,
            "overflow_y": null,
            "padding": null,
            "right": null,
            "top": null,
            "visibility": null,
            "width": null
          }
        },
        "bf8979e24db948789ca9f855b6aea997": {
          "model_module": "@jupyter-widgets/controls",
          "model_name": "DescriptionStyleModel",
          "model_module_version": "1.5.0",
          "state": {
            "_model_module": "@jupyter-widgets/controls",
            "_model_module_version": "1.5.0",
            "_model_name": "DescriptionStyleModel",
            "_view_count": null,
            "_view_module": "@jupyter-widgets/base",
            "_view_module_version": "1.2.0",
            "_view_name": "StyleView",
            "description_width": ""
          }
        },
        "41f671cb2a164eaea77450bdc07f8cca": {
          "model_module": "@jupyter-widgets/base",
          "model_name": "LayoutModel",
          "model_module_version": "1.2.0",
          "state": {
            "_model_module": "@jupyter-widgets/base",
            "_model_module_version": "1.2.0",
            "_model_name": "LayoutModel",
            "_view_count": null,
            "_view_module": "@jupyter-widgets/base",
            "_view_module_version": "1.2.0",
            "_view_name": "LayoutView",
            "align_content": null,
            "align_items": null,
            "align_self": null,
            "border": null,
            "bottom": null,
            "display": null,
            "flex": null,
            "flex_flow": null,
            "grid_area": null,
            "grid_auto_columns": null,
            "grid_auto_flow": null,
            "grid_auto_rows": null,
            "grid_column": null,
            "grid_gap": null,
            "grid_row": null,
            "grid_template_areas": null,
            "grid_template_columns": null,
            "grid_template_rows": null,
            "height": null,
            "justify_content": null,
            "justify_items": null,
            "left": null,
            "margin": null,
            "max_height": null,
            "max_width": null,
            "min_height": null,
            "min_width": null,
            "object_fit": null,
            "object_position": null,
            "order": null,
            "overflow": null,
            "overflow_x": null,
            "overflow_y": null,
            "padding": null,
            "right": null,
            "top": null,
            "visibility": null,
            "width": null
          }
        },
        "183fefb5331d42d896102ac150352354": {
          "model_module": "@jupyter-widgets/controls",
          "model_name": "ProgressStyleModel",
          "model_module_version": "1.5.0",
          "state": {
            "_model_module": "@jupyter-widgets/controls",
            "_model_module_version": "1.5.0",
            "_model_name": "ProgressStyleModel",
            "_view_count": null,
            "_view_module": "@jupyter-widgets/base",
            "_view_module_version": "1.2.0",
            "_view_name": "StyleView",
            "bar_color": null,
            "description_width": ""
          }
        },
        "c7667fa6cf884245823d9fd3f2a7be92": {
          "model_module": "@jupyter-widgets/base",
          "model_name": "LayoutModel",
          "model_module_version": "1.2.0",
          "state": {
            "_model_module": "@jupyter-widgets/base",
            "_model_module_version": "1.2.0",
            "_model_name": "LayoutModel",
            "_view_count": null,
            "_view_module": "@jupyter-widgets/base",
            "_view_module_version": "1.2.0",
            "_view_name": "LayoutView",
            "align_content": null,
            "align_items": null,
            "align_self": null,
            "border": null,
            "bottom": null,
            "display": null,
            "flex": null,
            "flex_flow": null,
            "grid_area": null,
            "grid_auto_columns": null,
            "grid_auto_flow": null,
            "grid_auto_rows": null,
            "grid_column": null,
            "grid_gap": null,
            "grid_row": null,
            "grid_template_areas": null,
            "grid_template_columns": null,
            "grid_template_rows": null,
            "height": null,
            "justify_content": null,
            "justify_items": null,
            "left": null,
            "margin": null,
            "max_height": null,
            "max_width": null,
            "min_height": null,
            "min_width": null,
            "object_fit": null,
            "object_position": null,
            "order": null,
            "overflow": null,
            "overflow_x": null,
            "overflow_y": null,
            "padding": null,
            "right": null,
            "top": null,
            "visibility": null,
            "width": null
          }
        },
        "f4e745ab49884f45a2943ba601ea9c21": {
          "model_module": "@jupyter-widgets/controls",
          "model_name": "DescriptionStyleModel",
          "model_module_version": "1.5.0",
          "state": {
            "_model_module": "@jupyter-widgets/controls",
            "_model_module_version": "1.5.0",
            "_model_name": "DescriptionStyleModel",
            "_view_count": null,
            "_view_module": "@jupyter-widgets/base",
            "_view_module_version": "1.2.0",
            "_view_name": "StyleView",
            "description_width": ""
          }
        },
        "8d58f8c6a9444c3da58600f3cf7dfe1a": {
          "model_module": "@jupyter-widgets/controls",
          "model_name": "HBoxModel",
          "model_module_version": "1.5.0",
          "state": {
            "_dom_classes": [],
            "_model_module": "@jupyter-widgets/controls",
            "_model_module_version": "1.5.0",
            "_model_name": "HBoxModel",
            "_view_count": null,
            "_view_module": "@jupyter-widgets/controls",
            "_view_module_version": "1.5.0",
            "_view_name": "HBoxView",
            "box_style": "",
            "children": [
              "IPY_MODEL_b8acc69ed590483380faf62163fe9466",
              "IPY_MODEL_8089f8274a61451fb526f26b9a02f508",
              "IPY_MODEL_dd6f70b9dc854f4d9d45ff9f4536ae37"
            ],
            "layout": "IPY_MODEL_55489b8711814e69adb5f33daf3a619a"
          }
        },
        "b8acc69ed590483380faf62163fe9466": {
          "model_module": "@jupyter-widgets/controls",
          "model_name": "HTMLModel",
          "model_module_version": "1.5.0",
          "state": {
            "_dom_classes": [],
            "_model_module": "@jupyter-widgets/controls",
            "_model_module_version": "1.5.0",
            "_model_name": "HTMLModel",
            "_view_count": null,
            "_view_module": "@jupyter-widgets/controls",
            "_view_module_version": "1.5.0",
            "_view_name": "HTMLView",
            "description": "",
            "description_tooltip": null,
            "layout": "IPY_MODEL_704394ebcb1d4f77bdf81f2661b43291",
            "placeholder": "​",
            "style": "IPY_MODEL_c482476cfb1048bc87c22c4facc96e58",
            "value": "Downloading data: 100%"
          }
        },
        "8089f8274a61451fb526f26b9a02f508": {
          "model_module": "@jupyter-widgets/controls",
          "model_name": "FloatProgressModel",
          "model_module_version": "1.5.0",
          "state": {
            "_dom_classes": [],
            "_model_module": "@jupyter-widgets/controls",
            "_model_module_version": "1.5.0",
            "_model_name": "FloatProgressModel",
            "_view_count": null,
            "_view_module": "@jupyter-widgets/controls",
            "_view_module_version": "1.5.0",
            "_view_name": "ProgressView",
            "bar_style": "success",
            "description": "",
            "description_tooltip": null,
            "layout": "IPY_MODEL_9f7169010caf4e9fb79320714730d0f3",
            "max": 4414008,
            "min": 0,
            "orientation": "horizontal",
            "style": "IPY_MODEL_5bf8adac89104f71a99e1e6ad93add3f",
            "value": 4414008
          }
        },
        "dd6f70b9dc854f4d9d45ff9f4536ae37": {
          "model_module": "@jupyter-widgets/controls",
          "model_name": "HTMLModel",
          "model_module_version": "1.5.0",
          "state": {
            "_dom_classes": [],
            "_model_module": "@jupyter-widgets/controls",
            "_model_module_version": "1.5.0",
            "_model_name": "HTMLModel",
            "_view_count": null,
            "_view_module": "@jupyter-widgets/controls",
            "_view_module_version": "1.5.0",
            "_view_name": "HTMLView",
            "description": "",
            "description_tooltip": null,
            "layout": "IPY_MODEL_df988d7307604593ab4ea29327fd0d2d",
            "placeholder": "​",
            "style": "IPY_MODEL_e9e047509d31417680c76df288293c3a",
            "value": " 4.41M/4.41M [00:00&lt;00:00, 6.82MB/s]"
          }
        },
        "55489b8711814e69adb5f33daf3a619a": {
          "model_module": "@jupyter-widgets/base",
          "model_name": "LayoutModel",
          "model_module_version": "1.2.0",
          "state": {
            "_model_module": "@jupyter-widgets/base",
            "_model_module_version": "1.2.0",
            "_model_name": "LayoutModel",
            "_view_count": null,
            "_view_module": "@jupyter-widgets/base",
            "_view_module_version": "1.2.0",
            "_view_name": "LayoutView",
            "align_content": null,
            "align_items": null,
            "align_self": null,
            "border": null,
            "bottom": null,
            "display": null,
            "flex": null,
            "flex_flow": null,
            "grid_area": null,
            "grid_auto_columns": null,
            "grid_auto_flow": null,
            "grid_auto_rows": null,
            "grid_column": null,
            "grid_gap": null,
            "grid_row": null,
            "grid_template_areas": null,
            "grid_template_columns": null,
            "grid_template_rows": null,
            "height": null,
            "justify_content": null,
            "justify_items": null,
            "left": null,
            "margin": null,
            "max_height": null,
            "max_width": null,
            "min_height": null,
            "min_width": null,
            "object_fit": null,
            "object_position": null,
            "order": null,
            "overflow": null,
            "overflow_x": null,
            "overflow_y": null,
            "padding": null,
            "right": null,
            "top": null,
            "visibility": null,
            "width": null
          }
        },
        "704394ebcb1d4f77bdf81f2661b43291": {
          "model_module": "@jupyter-widgets/base",
          "model_name": "LayoutModel",
          "model_module_version": "1.2.0",
          "state": {
            "_model_module": "@jupyter-widgets/base",
            "_model_module_version": "1.2.0",
            "_model_name": "LayoutModel",
            "_view_count": null,
            "_view_module": "@jupyter-widgets/base",
            "_view_module_version": "1.2.0",
            "_view_name": "LayoutView",
            "align_content": null,
            "align_items": null,
            "align_self": null,
            "border": null,
            "bottom": null,
            "display": null,
            "flex": null,
            "flex_flow": null,
            "grid_area": null,
            "grid_auto_columns": null,
            "grid_auto_flow": null,
            "grid_auto_rows": null,
            "grid_column": null,
            "grid_gap": null,
            "grid_row": null,
            "grid_template_areas": null,
            "grid_template_columns": null,
            "grid_template_rows": null,
            "height": null,
            "justify_content": null,
            "justify_items": null,
            "left": null,
            "margin": null,
            "max_height": null,
            "max_width": null,
            "min_height": null,
            "min_width": null,
            "object_fit": null,
            "object_position": null,
            "order": null,
            "overflow": null,
            "overflow_x": null,
            "overflow_y": null,
            "padding": null,
            "right": null,
            "top": null,
            "visibility": null,
            "width": null
          }
        },
        "c482476cfb1048bc87c22c4facc96e58": {
          "model_module": "@jupyter-widgets/controls",
          "model_name": "DescriptionStyleModel",
          "model_module_version": "1.5.0",
          "state": {
            "_model_module": "@jupyter-widgets/controls",
            "_model_module_version": "1.5.0",
            "_model_name": "DescriptionStyleModel",
            "_view_count": null,
            "_view_module": "@jupyter-widgets/base",
            "_view_module_version": "1.2.0",
            "_view_name": "StyleView",
            "description_width": ""
          }
        },
        "9f7169010caf4e9fb79320714730d0f3": {
          "model_module": "@jupyter-widgets/base",
          "model_name": "LayoutModel",
          "model_module_version": "1.2.0",
          "state": {
            "_model_module": "@jupyter-widgets/base",
            "_model_module_version": "1.2.0",
            "_model_name": "LayoutModel",
            "_view_count": null,
            "_view_module": "@jupyter-widgets/base",
            "_view_module_version": "1.2.0",
            "_view_name": "LayoutView",
            "align_content": null,
            "align_items": null,
            "align_self": null,
            "border": null,
            "bottom": null,
            "display": null,
            "flex": null,
            "flex_flow": null,
            "grid_area": null,
            "grid_auto_columns": null,
            "grid_auto_flow": null,
            "grid_auto_rows": null,
            "grid_column": null,
            "grid_gap": null,
            "grid_row": null,
            "grid_template_areas": null,
            "grid_template_columns": null,
            "grid_template_rows": null,
            "height": null,
            "justify_content": null,
            "justify_items": null,
            "left": null,
            "margin": null,
            "max_height": null,
            "max_width": null,
            "min_height": null,
            "min_width": null,
            "object_fit": null,
            "object_position": null,
            "order": null,
            "overflow": null,
            "overflow_x": null,
            "overflow_y": null,
            "padding": null,
            "right": null,
            "top": null,
            "visibility": null,
            "width": null
          }
        },
        "5bf8adac89104f71a99e1e6ad93add3f": {
          "model_module": "@jupyter-widgets/controls",
          "model_name": "ProgressStyleModel",
          "model_module_version": "1.5.0",
          "state": {
            "_model_module": "@jupyter-widgets/controls",
            "_model_module_version": "1.5.0",
            "_model_name": "ProgressStyleModel",
            "_view_count": null,
            "_view_module": "@jupyter-widgets/base",
            "_view_module_version": "1.2.0",
            "_view_name": "StyleView",
            "bar_color": null,
            "description_width": ""
          }
        },
        "df988d7307604593ab4ea29327fd0d2d": {
          "model_module": "@jupyter-widgets/base",
          "model_name": "LayoutModel",
          "model_module_version": "1.2.0",
          "state": {
            "_model_module": "@jupyter-widgets/base",
            "_model_module_version": "1.2.0",
            "_model_name": "LayoutModel",
            "_view_count": null,
            "_view_module": "@jupyter-widgets/base",
            "_view_module_version": "1.2.0",
            "_view_name": "LayoutView",
            "align_content": null,
            "align_items": null,
            "align_self": null,
            "border": null,
            "bottom": null,
            "display": null,
            "flex": null,
            "flex_flow": null,
            "grid_area": null,
            "grid_auto_columns": null,
            "grid_auto_flow": null,
            "grid_auto_rows": null,
            "grid_column": null,
            "grid_gap": null,
            "grid_row": null,
            "grid_template_areas": null,
            "grid_template_columns": null,
            "grid_template_rows": null,
            "height": null,
            "justify_content": null,
            "justify_items": null,
            "left": null,
            "margin": null,
            "max_height": null,
            "max_width": null,
            "min_height": null,
            "min_width": null,
            "object_fit": null,
            "object_position": null,
            "order": null,
            "overflow": null,
            "overflow_x": null,
            "overflow_y": null,
            "padding": null,
            "right": null,
            "top": null,
            "visibility": null,
            "width": null
          }
        },
        "e9e047509d31417680c76df288293c3a": {
          "model_module": "@jupyter-widgets/controls",
          "model_name": "DescriptionStyleModel",
          "model_module_version": "1.5.0",
          "state": {
            "_model_module": "@jupyter-widgets/controls",
            "_model_module_version": "1.5.0",
            "_model_name": "DescriptionStyleModel",
            "_view_count": null,
            "_view_module": "@jupyter-widgets/base",
            "_view_module_version": "1.2.0",
            "_view_name": "StyleView",
            "description_width": ""
          }
        },
        "493ca579acbc4f9994f2501c93bb12dd": {
          "model_module": "@jupyter-widgets/controls",
          "model_name": "HBoxModel",
          "model_module_version": "1.5.0",
          "state": {
            "_dom_classes": [],
            "_model_module": "@jupyter-widgets/controls",
            "_model_module_version": "1.5.0",
            "_model_name": "HBoxModel",
            "_view_count": null,
            "_view_module": "@jupyter-widgets/controls",
            "_view_module_version": "1.5.0",
            "_view_name": "HBoxView",
            "box_style": "",
            "children": [
              "IPY_MODEL_c3c0d19b9413472e8326da700f9fec1d",
              "IPY_MODEL_b79464d0f5b54b31ad3c77f1cf2963fc",
              "IPY_MODEL_2d63eddc432946d28bac547657d37245"
            ],
            "layout": "IPY_MODEL_1cd76274d06e4e4498f58f3a90feb468"
          }
        },
        "c3c0d19b9413472e8326da700f9fec1d": {
          "model_module": "@jupyter-widgets/controls",
          "model_name": "HTMLModel",
          "model_module_version": "1.5.0",
          "state": {
            "_dom_classes": [],
            "_model_module": "@jupyter-widgets/controls",
            "_model_module_version": "1.5.0",
            "_model_name": "HTMLModel",
            "_view_count": null,
            "_view_module": "@jupyter-widgets/controls",
            "_view_module_version": "1.5.0",
            "_view_name": "HTMLView",
            "description": "",
            "description_tooltip": null,
            "layout": "IPY_MODEL_4639338a1cba47199feaa30cc3dc8ad0",
            "placeholder": "​",
            "style": "IPY_MODEL_1b679451cb5c4a229db40e5f2ca75c51",
            "value": "Extracting data files: 100%"
          }
        },
        "b79464d0f5b54b31ad3c77f1cf2963fc": {
          "model_module": "@jupyter-widgets/controls",
          "model_name": "FloatProgressModel",
          "model_module_version": "1.5.0",
          "state": {
            "_dom_classes": [],
            "_model_module": "@jupyter-widgets/controls",
            "_model_module_version": "1.5.0",
            "_model_name": "FloatProgressModel",
            "_view_count": null,
            "_view_module": "@jupyter-widgets/controls",
            "_view_module_version": "1.5.0",
            "_view_name": "ProgressView",
            "bar_style": "success",
            "description": "",
            "description_tooltip": null,
            "layout": "IPY_MODEL_f751d66eb93f4609bf871e1c57cde728",
            "max": 1,
            "min": 0,
            "orientation": "horizontal",
            "style": "IPY_MODEL_37d27f1082884529b0cd19daadf93dc0",
            "value": 1
          }
        },
        "2d63eddc432946d28bac547657d37245": {
          "model_module": "@jupyter-widgets/controls",
          "model_name": "HTMLModel",
          "model_module_version": "1.5.0",
          "state": {
            "_dom_classes": [],
            "_model_module": "@jupyter-widgets/controls",
            "_model_module_version": "1.5.0",
            "_model_name": "HTMLModel",
            "_view_count": null,
            "_view_module": "@jupyter-widgets/controls",
            "_view_module_version": "1.5.0",
            "_view_name": "HTMLView",
            "description": "",
            "description_tooltip": null,
            "layout": "IPY_MODEL_d07ff1d99a604a22901ca3817f494bfc",
            "placeholder": "​",
            "style": "IPY_MODEL_53576f97206249108f7ffd7b315e5d38",
            "value": " 1/1 [00:00&lt;00:00, 43.60it/s]"
          }
        },
        "1cd76274d06e4e4498f58f3a90feb468": {
          "model_module": "@jupyter-widgets/base",
          "model_name": "LayoutModel",
          "model_module_version": "1.2.0",
          "state": {
            "_model_module": "@jupyter-widgets/base",
            "_model_module_version": "1.2.0",
            "_model_name": "LayoutModel",
            "_view_count": null,
            "_view_module": "@jupyter-widgets/base",
            "_view_module_version": "1.2.0",
            "_view_name": "LayoutView",
            "align_content": null,
            "align_items": null,
            "align_self": null,
            "border": null,
            "bottom": null,
            "display": null,
            "flex": null,
            "flex_flow": null,
            "grid_area": null,
            "grid_auto_columns": null,
            "grid_auto_flow": null,
            "grid_auto_rows": null,
            "grid_column": null,
            "grid_gap": null,
            "grid_row": null,
            "grid_template_areas": null,
            "grid_template_columns": null,
            "grid_template_rows": null,
            "height": null,
            "justify_content": null,
            "justify_items": null,
            "left": null,
            "margin": null,
            "max_height": null,
            "max_width": null,
            "min_height": null,
            "min_width": null,
            "object_fit": null,
            "object_position": null,
            "order": null,
            "overflow": null,
            "overflow_x": null,
            "overflow_y": null,
            "padding": null,
            "right": null,
            "top": null,
            "visibility": null,
            "width": null
          }
        },
        "4639338a1cba47199feaa30cc3dc8ad0": {
          "model_module": "@jupyter-widgets/base",
          "model_name": "LayoutModel",
          "model_module_version": "1.2.0",
          "state": {
            "_model_module": "@jupyter-widgets/base",
            "_model_module_version": "1.2.0",
            "_model_name": "LayoutModel",
            "_view_count": null,
            "_view_module": "@jupyter-widgets/base",
            "_view_module_version": "1.2.0",
            "_view_name": "LayoutView",
            "align_content": null,
            "align_items": null,
            "align_self": null,
            "border": null,
            "bottom": null,
            "display": null,
            "flex": null,
            "flex_flow": null,
            "grid_area": null,
            "grid_auto_columns": null,
            "grid_auto_flow": null,
            "grid_auto_rows": null,
            "grid_column": null,
            "grid_gap": null,
            "grid_row": null,
            "grid_template_areas": null,
            "grid_template_columns": null,
            "grid_template_rows": null,
            "height": null,
            "justify_content": null,
            "justify_items": null,
            "left": null,
            "margin": null,
            "max_height": null,
            "max_width": null,
            "min_height": null,
            "min_width": null,
            "object_fit": null,
            "object_position": null,
            "order": null,
            "overflow": null,
            "overflow_x": null,
            "overflow_y": null,
            "padding": null,
            "right": null,
            "top": null,
            "visibility": null,
            "width": null
          }
        },
        "1b679451cb5c4a229db40e5f2ca75c51": {
          "model_module": "@jupyter-widgets/controls",
          "model_name": "DescriptionStyleModel",
          "model_module_version": "1.5.0",
          "state": {
            "_model_module": "@jupyter-widgets/controls",
            "_model_module_version": "1.5.0",
            "_model_name": "DescriptionStyleModel",
            "_view_count": null,
            "_view_module": "@jupyter-widgets/base",
            "_view_module_version": "1.2.0",
            "_view_name": "StyleView",
            "description_width": ""
          }
        },
        "f751d66eb93f4609bf871e1c57cde728": {
          "model_module": "@jupyter-widgets/base",
          "model_name": "LayoutModel",
          "model_module_version": "1.2.0",
          "state": {
            "_model_module": "@jupyter-widgets/base",
            "_model_module_version": "1.2.0",
            "_model_name": "LayoutModel",
            "_view_count": null,
            "_view_module": "@jupyter-widgets/base",
            "_view_module_version": "1.2.0",
            "_view_name": "LayoutView",
            "align_content": null,
            "align_items": null,
            "align_self": null,
            "border": null,
            "bottom": null,
            "display": null,
            "flex": null,
            "flex_flow": null,
            "grid_area": null,
            "grid_auto_columns": null,
            "grid_auto_flow": null,
            "grid_auto_rows": null,
            "grid_column": null,
            "grid_gap": null,
            "grid_row": null,
            "grid_template_areas": null,
            "grid_template_columns": null,
            "grid_template_rows": null,
            "height": null,
            "justify_content": null,
            "justify_items": null,
            "left": null,
            "margin": null,
            "max_height": null,
            "max_width": null,
            "min_height": null,
            "min_width": null,
            "object_fit": null,
            "object_position": null,
            "order": null,
            "overflow": null,
            "overflow_x": null,
            "overflow_y": null,
            "padding": null,
            "right": null,
            "top": null,
            "visibility": null,
            "width": null
          }
        },
        "37d27f1082884529b0cd19daadf93dc0": {
          "model_module": "@jupyter-widgets/controls",
          "model_name": "ProgressStyleModel",
          "model_module_version": "1.5.0",
          "state": {
            "_model_module": "@jupyter-widgets/controls",
            "_model_module_version": "1.5.0",
            "_model_name": "ProgressStyleModel",
            "_view_count": null,
            "_view_module": "@jupyter-widgets/base",
            "_view_module_version": "1.2.0",
            "_view_name": "StyleView",
            "bar_color": null,
            "description_width": ""
          }
        },
        "d07ff1d99a604a22901ca3817f494bfc": {
          "model_module": "@jupyter-widgets/base",
          "model_name": "LayoutModel",
          "model_module_version": "1.2.0",
          "state": {
            "_model_module": "@jupyter-widgets/base",
            "_model_module_version": "1.2.0",
            "_model_name": "LayoutModel",
            "_view_count": null,
            "_view_module": "@jupyter-widgets/base",
            "_view_module_version": "1.2.0",
            "_view_name": "LayoutView",
            "align_content": null,
            "align_items": null,
            "align_self": null,
            "border": null,
            "bottom": null,
            "display": null,
            "flex": null,
            "flex_flow": null,
            "grid_area": null,
            "grid_auto_columns": null,
            "grid_auto_flow": null,
            "grid_auto_rows": null,
            "grid_column": null,
            "grid_gap": null,
            "grid_row": null,
            "grid_template_areas": null,
            "grid_template_columns": null,
            "grid_template_rows": null,
            "height": null,
            "justify_content": null,
            "justify_items": null,
            "left": null,
            "margin": null,
            "max_height": null,
            "max_width": null,
            "min_height": null,
            "min_width": null,
            "object_fit": null,
            "object_position": null,
            "order": null,
            "overflow": null,
            "overflow_x": null,
            "overflow_y": null,
            "padding": null,
            "right": null,
            "top": null,
            "visibility": null,
            "width": null
          }
        },
        "53576f97206249108f7ffd7b315e5d38": {
          "model_module": "@jupyter-widgets/controls",
          "model_name": "DescriptionStyleModel",
          "model_module_version": "1.5.0",
          "state": {
            "_model_module": "@jupyter-widgets/controls",
            "_model_module_version": "1.5.0",
            "_model_name": "DescriptionStyleModel",
            "_view_count": null,
            "_view_module": "@jupyter-widgets/base",
            "_view_module_version": "1.2.0",
            "_view_name": "StyleView",
            "description_width": ""
          }
        },
        "7c17a1c22aa8479bbe3c0fd096103d15": {
          "model_module": "@jupyter-widgets/controls",
          "model_name": "HBoxModel",
          "model_module_version": "1.5.0",
          "state": {
            "_dom_classes": [],
            "_model_module": "@jupyter-widgets/controls",
            "_model_module_version": "1.5.0",
            "_model_name": "HBoxModel",
            "_view_count": null,
            "_view_module": "@jupyter-widgets/controls",
            "_view_module_version": "1.5.0",
            "_view_name": "HBoxView",
            "box_style": "",
            "children": [
              "IPY_MODEL_68dc1769c004448bbf2e6e77e9307714",
              "IPY_MODEL_4e9ed4bd75c546fea533c524ab9e1b37",
              "IPY_MODEL_3b672558c45a4ce7b6dbcaeacd960f30"
            ],
            "layout": "IPY_MODEL_917c1d403e5948c3b47752a133262b21"
          }
        },
        "68dc1769c004448bbf2e6e77e9307714": {
          "model_module": "@jupyter-widgets/controls",
          "model_name": "HTMLModel",
          "model_module_version": "1.5.0",
          "state": {
            "_dom_classes": [],
            "_model_module": "@jupyter-widgets/controls",
            "_model_module_version": "1.5.0",
            "_model_name": "HTMLModel",
            "_view_count": null,
            "_view_module": "@jupyter-widgets/controls",
            "_view_module_version": "1.5.0",
            "_view_name": "HTMLView",
            "description": "",
            "description_tooltip": null,
            "layout": "IPY_MODEL_3a8ee753a02f4fcab0e7b4384a190926",
            "placeholder": "​",
            "style": "IPY_MODEL_7573eb389c2442e69aee67f47f4d361f",
            "value": "Generating train split: "
          }
        },
        "4e9ed4bd75c546fea533c524ab9e1b37": {
          "model_module": "@jupyter-widgets/controls",
          "model_name": "FloatProgressModel",
          "model_module_version": "1.5.0",
          "state": {
            "_dom_classes": [],
            "_model_module": "@jupyter-widgets/controls",
            "_model_module_version": "1.5.0",
            "_model_name": "FloatProgressModel",
            "_view_count": null,
            "_view_module": "@jupyter-widgets/controls",
            "_view_module_version": "1.5.0",
            "_view_name": "ProgressView",
            "bar_style": "success",
            "description": "",
            "description_tooltip": null,
            "layout": "IPY_MODEL_d157f218c3b24bbcbb258aee188b5129",
            "max": 1,
            "min": 0,
            "orientation": "horizontal",
            "style": "IPY_MODEL_1ed97cd7a28a4af39256ac8e83971a3a",
            "value": 1
          }
        },
        "3b672558c45a4ce7b6dbcaeacd960f30": {
          "model_module": "@jupyter-widgets/controls",
          "model_name": "HTMLModel",
          "model_module_version": "1.5.0",
          "state": {
            "_dom_classes": [],
            "_model_module": "@jupyter-widgets/controls",
            "_model_module_version": "1.5.0",
            "_model_name": "HTMLModel",
            "_view_count": null,
            "_view_module": "@jupyter-widgets/controls",
            "_view_module_version": "1.5.0",
            "_view_name": "HTMLView",
            "description": "",
            "description_tooltip": null,
            "layout": "IPY_MODEL_39ef2f83f7144327ad0773be46907eaa",
            "placeholder": "​",
            "style": "IPY_MODEL_4989fa26136d40b8bfe3eb731873ff13",
            "value": " 768/0 [00:00&lt;00:00, 3160.61 examples/s]"
          }
        },
        "917c1d403e5948c3b47752a133262b21": {
          "model_module": "@jupyter-widgets/base",
          "model_name": "LayoutModel",
          "model_module_version": "1.2.0",
          "state": {
            "_model_module": "@jupyter-widgets/base",
            "_model_module_version": "1.2.0",
            "_model_name": "LayoutModel",
            "_view_count": null,
            "_view_module": "@jupyter-widgets/base",
            "_view_module_version": "1.2.0",
            "_view_name": "LayoutView",
            "align_content": null,
            "align_items": null,
            "align_self": null,
            "border": null,
            "bottom": null,
            "display": null,
            "flex": null,
            "flex_flow": null,
            "grid_area": null,
            "grid_auto_columns": null,
            "grid_auto_flow": null,
            "grid_auto_rows": null,
            "grid_column": null,
            "grid_gap": null,
            "grid_row": null,
            "grid_template_areas": null,
            "grid_template_columns": null,
            "grid_template_rows": null,
            "height": null,
            "justify_content": null,
            "justify_items": null,
            "left": null,
            "margin": null,
            "max_height": null,
            "max_width": null,
            "min_height": null,
            "min_width": null,
            "object_fit": null,
            "object_position": null,
            "order": null,
            "overflow": null,
            "overflow_x": null,
            "overflow_y": null,
            "padding": null,
            "right": null,
            "top": null,
            "visibility": null,
            "width": null
          }
        },
        "3a8ee753a02f4fcab0e7b4384a190926": {
          "model_module": "@jupyter-widgets/base",
          "model_name": "LayoutModel",
          "model_module_version": "1.2.0",
          "state": {
            "_model_module": "@jupyter-widgets/base",
            "_model_module_version": "1.2.0",
            "_model_name": "LayoutModel",
            "_view_count": null,
            "_view_module": "@jupyter-widgets/base",
            "_view_module_version": "1.2.0",
            "_view_name": "LayoutView",
            "align_content": null,
            "align_items": null,
            "align_self": null,
            "border": null,
            "bottom": null,
            "display": null,
            "flex": null,
            "flex_flow": null,
            "grid_area": null,
            "grid_auto_columns": null,
            "grid_auto_flow": null,
            "grid_auto_rows": null,
            "grid_column": null,
            "grid_gap": null,
            "grid_row": null,
            "grid_template_areas": null,
            "grid_template_columns": null,
            "grid_template_rows": null,
            "height": null,
            "justify_content": null,
            "justify_items": null,
            "left": null,
            "margin": null,
            "max_height": null,
            "max_width": null,
            "min_height": null,
            "min_width": null,
            "object_fit": null,
            "object_position": null,
            "order": null,
            "overflow": null,
            "overflow_x": null,
            "overflow_y": null,
            "padding": null,
            "right": null,
            "top": null,
            "visibility": null,
            "width": null
          }
        },
        "7573eb389c2442e69aee67f47f4d361f": {
          "model_module": "@jupyter-widgets/controls",
          "model_name": "DescriptionStyleModel",
          "model_module_version": "1.5.0",
          "state": {
            "_model_module": "@jupyter-widgets/controls",
            "_model_module_version": "1.5.0",
            "_model_name": "DescriptionStyleModel",
            "_view_count": null,
            "_view_module": "@jupyter-widgets/base",
            "_view_module_version": "1.2.0",
            "_view_name": "StyleView",
            "description_width": ""
          }
        },
        "d157f218c3b24bbcbb258aee188b5129": {
          "model_module": "@jupyter-widgets/base",
          "model_name": "LayoutModel",
          "model_module_version": "1.2.0",
          "state": {
            "_model_module": "@jupyter-widgets/base",
            "_model_module_version": "1.2.0",
            "_model_name": "LayoutModel",
            "_view_count": null,
            "_view_module": "@jupyter-widgets/base",
            "_view_module_version": "1.2.0",
            "_view_name": "LayoutView",
            "align_content": null,
            "align_items": null,
            "align_self": null,
            "border": null,
            "bottom": null,
            "display": null,
            "flex": null,
            "flex_flow": null,
            "grid_area": null,
            "grid_auto_columns": null,
            "grid_auto_flow": null,
            "grid_auto_rows": null,
            "grid_column": null,
            "grid_gap": null,
            "grid_row": null,
            "grid_template_areas": null,
            "grid_template_columns": null,
            "grid_template_rows": null,
            "height": null,
            "justify_content": null,
            "justify_items": null,
            "left": null,
            "margin": null,
            "max_height": null,
            "max_width": null,
            "min_height": null,
            "min_width": null,
            "object_fit": null,
            "object_position": null,
            "order": null,
            "overflow": null,
            "overflow_x": null,
            "overflow_y": null,
            "padding": null,
            "right": null,
            "top": null,
            "visibility": null,
            "width": "20px"
          }
        },
        "1ed97cd7a28a4af39256ac8e83971a3a": {
          "model_module": "@jupyter-widgets/controls",
          "model_name": "ProgressStyleModel",
          "model_module_version": "1.5.0",
          "state": {
            "_model_module": "@jupyter-widgets/controls",
            "_model_module_version": "1.5.0",
            "_model_name": "ProgressStyleModel",
            "_view_count": null,
            "_view_module": "@jupyter-widgets/base",
            "_view_module_version": "1.2.0",
            "_view_name": "StyleView",
            "bar_color": null,
            "description_width": ""
          }
        },
        "39ef2f83f7144327ad0773be46907eaa": {
          "model_module": "@jupyter-widgets/base",
          "model_name": "LayoutModel",
          "model_module_version": "1.2.0",
          "state": {
            "_model_module": "@jupyter-widgets/base",
            "_model_module_version": "1.2.0",
            "_model_name": "LayoutModel",
            "_view_count": null,
            "_view_module": "@jupyter-widgets/base",
            "_view_module_version": "1.2.0",
            "_view_name": "LayoutView",
            "align_content": null,
            "align_items": null,
            "align_self": null,
            "border": null,
            "bottom": null,
            "display": null,
            "flex": null,
            "flex_flow": null,
            "grid_area": null,
            "grid_auto_columns": null,
            "grid_auto_flow": null,
            "grid_auto_rows": null,
            "grid_column": null,
            "grid_gap": null,
            "grid_row": null,
            "grid_template_areas": null,
            "grid_template_columns": null,
            "grid_template_rows": null,
            "height": null,
            "justify_content": null,
            "justify_items": null,
            "left": null,
            "margin": null,
            "max_height": null,
            "max_width": null,
            "min_height": null,
            "min_width": null,
            "object_fit": null,
            "object_position": null,
            "order": null,
            "overflow": null,
            "overflow_x": null,
            "overflow_y": null,
            "padding": null,
            "right": null,
            "top": null,
            "visibility": null,
            "width": null
          }
        },
        "4989fa26136d40b8bfe3eb731873ff13": {
          "model_module": "@jupyter-widgets/controls",
          "model_name": "DescriptionStyleModel",
          "model_module_version": "1.5.0",
          "state": {
            "_model_module": "@jupyter-widgets/controls",
            "_model_module_version": "1.5.0",
            "_model_name": "DescriptionStyleModel",
            "_view_count": null,
            "_view_module": "@jupyter-widgets/base",
            "_view_module_version": "1.2.0",
            "_view_name": "StyleView",
            "description_width": ""
          }
        }
      }
    }
  },
  "cells": [
    {
      "cell_type": "markdown",
      "metadata": {
        "id": "view-in-github",
        "colab_type": "text"
      },
      "source": [
        "<a href=\"https://colab.research.google.com/github/LC1332/Embed-Adapter/blob/main/notebook/save_pkl_into_parquet.ipynb\" target=\"_parent\"><img src=\"https://colab.research.google.com/assets/colab-badge.svg\" alt=\"Open In Colab\"/></a>"
      ]
    },
    {
      "cell_type": "markdown",
      "source": [
        "将pkl的数据依次保存到对应名字的jsonl"
      ],
      "metadata": {
        "id": "6A_b_vJUemVK"
      }
    },
    {
      "cell_type": "code",
      "execution_count": 1,
      "metadata": {
        "colab": {
          "base_uri": "https://localhost:8080/"
        },
        "id": "nhg_okupei-a",
        "outputId": "a705ee74-f4da-46f5-a45a-94e72478edf1"
      },
      "outputs": [
        {
          "output_type": "stream",
          "name": "stdout",
          "text": [
            "/content\n",
            "Cloning into 'Embed-Adapter'...\n",
            "remote: Enumerating objects: 145, done.\u001b[K\n",
            "remote: Counting objects: 100% (30/30), done.\u001b[K\n",
            "remote: Compressing objects: 100% (23/23), done.\u001b[K\n",
            "remote: Total 145 (delta 11), reused 16 (delta 7), pack-reused 115\u001b[K\n",
            "Receiving objects: 100% (145/145), 36.81 MiB | 15.15 MiB/s, done.\n",
            "Resolving deltas: 100% (73/73), done.\n",
            "/content/Embed-Adapter\n"
          ]
        }
      ],
      "source": [
        "%cd /content\n",
        "!rm -rf /content/Embed-Adapter\n",
        "!git clone https://github.com/LC1332/Embed-Adapter\n",
        "%cd /content/Embed-Adapter"
      ]
    },
    {
      "cell_type": "code",
      "source": [
        "!ls data"
      ],
      "metadata": {
        "colab": {
          "base_uri": "https://localhost:8080/"
        },
        "id": "30Bl40isezl-",
        "outputId": "c2a39990-798c-4b5a-efb7-49f9faeb17ba"
      },
      "execution_count": 2,
      "outputs": [
        {
          "output_type": "stream",
          "name": "stdout",
          "text": [
            "pseudo_inverses_400.pkl  pseudo_inverses.pkl  test_data.pkl\n"
          ]
        }
      ]
    },
    {
      "cell_type": "code",
      "source": [
        "\n",
        "import pickle\n",
        "\n",
        "# Load the pickle file\n",
        "with open('/content/Embed-Adapter/data/pseudo_inverses.pkl', 'rb') as f:\n",
        "    pseudo_inverses = pickle.load(f)"
      ],
      "metadata": {
        "id": "b9928nS1e61D"
      },
      "execution_count": 4,
      "outputs": []
    },
    {
      "cell_type": "code",
      "source": [
        "print(pseudo_inverses.keys())"
      ],
      "metadata": {
        "colab": {
          "base_uri": "https://localhost:8080/"
        },
        "id": "3glShJv_fC1G",
        "outputId": "abf9d8b8-6371-4486-d859-212e03395c9e"
      },
      "execution_count": 5,
      "outputs": [
        {
          "output_type": "stream",
          "name": "stdout",
          "text": [
            "dict_keys([('openai', 'BAAI/bge-small-zh-v1.5'), ('openai', 'BAAI/bge-base-zh-v1.5'), ('openai', 'BAAI/bge-large-zh-v1.5'), ('BAAI/bge-small-zh-v1.5', 'openai'), ('BAAI/bge-small-zh-v1.5', 'BAAI/bge-base-zh-v1.5'), ('BAAI/bge-small-zh-v1.5', 'BAAI/bge-large-zh-v1.5'), ('BAAI/bge-base-zh-v1.5', 'openai'), ('BAAI/bge-base-zh-v1.5', 'BAAI/bge-small-zh-v1.5'), ('BAAI/bge-base-zh-v1.5', 'BAAI/bge-large-zh-v1.5'), ('BAAI/bge-large-zh-v1.5', 'openai'), ('BAAI/bge-large-zh-v1.5', 'BAAI/bge-small-zh-v1.5'), ('BAAI/bge-large-zh-v1.5', 'BAAI/bge-base-zh-v1.5')])\n"
          ]
        }
      ]
    },
    {
      "cell_type": "code",
      "source": [
        "print(pseudo_inverses[('openai', 'BAAI/bge-small-zh-v1.5')].shape)"
      ],
      "metadata": {
        "colab": {
          "base_uri": "https://localhost:8080/"
        },
        "id": "ZG-1u-fzfSq3",
        "outputId": "c2adf2cd-75ca-40b7-d83a-c4e047957787"
      },
      "execution_count": 8,
      "outputs": [
        {
          "output_type": "stream",
          "name": "stdout",
          "text": [
            "(1536, 512)\n"
          ]
        }
      ]
    },
    {
      "cell_type": "code",
      "source": [
        "for key in pseudo_inverses.keys():\n",
        "    print(key, pseudo_inverses[key].shape)"
      ],
      "metadata": {
        "colab": {
          "base_uri": "https://localhost:8080/"
        },
        "id": "G_q2alJIqc_T",
        "outputId": "f5f08cdd-b045-49b6-df44-af332f714f48"
      },
      "execution_count": 38,
      "outputs": [
        {
          "output_type": "stream",
          "name": "stdout",
          "text": [
            "('openai', 'BAAI/bge-small-zh-v1.5') (1536, 512)\n",
            "('openai', 'BAAI/bge-base-zh-v1.5') (1536, 768)\n",
            "('openai', 'BAAI/bge-large-zh-v1.5') (1536, 1024)\n",
            "('BAAI/bge-small-zh-v1.5', 'openai') (512, 1536)\n",
            "('BAAI/bge-small-zh-v1.5', 'BAAI/bge-base-zh-v1.5') (512, 768)\n",
            "('BAAI/bge-small-zh-v1.5', 'BAAI/bge-large-zh-v1.5') (512, 1024)\n",
            "('BAAI/bge-base-zh-v1.5', 'openai') (768, 1536)\n",
            "('BAAI/bge-base-zh-v1.5', 'BAAI/bge-small-zh-v1.5') (768, 512)\n",
            "('BAAI/bge-base-zh-v1.5', 'BAAI/bge-large-zh-v1.5') (768, 1024)\n",
            "('BAAI/bge-large-zh-v1.5', 'openai') (1024, 1536)\n",
            "('BAAI/bge-large-zh-v1.5', 'BAAI/bge-small-zh-v1.5') (1024, 512)\n",
            "('BAAI/bge-large-zh-v1.5', 'BAAI/bge-base-zh-v1.5') (1024, 768)\n"
          ]
        }
      ]
    },
    {
      "cell_type": "code",
      "source": [
        "!rm -rf /content/output"
      ],
      "metadata": {
        "id": "viHT8bKhkCGg"
      },
      "execution_count": 27,
      "outputs": []
    },
    {
      "cell_type": "markdown",
      "source": [
        "请为我实现以下python程序\n",
        "\n",
        "save_folder = \"/content/output\"\n",
        "\n",
        "先确认save_folder存在，如果不存在则新建这个目录\n",
        "\n",
        "pseudo_inverses是一个dict，里面的的key都是(str1,str2)的形式，value都是np形式的矩阵\n",
        "\n",
        "对于每个key，save_name = <str1>__<str2>.jsonl\n",
        "\n",
        "如key是('openai', 'BAAI/bge-small-zh-v1.5')时，\n",
        "\n",
        "把\"/\"替换为\"---\"\n",
        "\n",
        "save_name = \"openai__BAAI---bge-small-zh-v1.5.jsonl\"\n",
        "\n",
        "pseudo_inverses的value都是一个float的np array形式的矩阵\n",
        "\n",
        "把pseudo_inverses[key]对应的矩阵存到save_data[\"matrix\"]中\n",
        "\n",
        "然后把save_data保存到save_name对应的jsonl文件中"
      ],
      "metadata": {
        "id": "bqz1VpQffPc1"
      }
    },
    {
      "cell_type": "code",
      "source": [
        "pip install -q pandas pyarrow\n"
      ],
      "metadata": {
        "id": "rOVNOXuyopuu"
      },
      "execution_count": 28,
      "outputs": []
    },
    {
      "cell_type": "code",
      "source": [
        "import os\n",
        "import pandas as pd\n",
        "import numpy as np\n",
        "\n",
        "save_folder = \"/content/output\"\n",
        "\n",
        "# 确保保存目录存在\n",
        "if not os.path.exists(save_folder):\n",
        "    os.makedirs(save_folder)\n",
        "\n",
        "# 假设pseudo_inverses是已经定义好的字典\n",
        "# pseudo_inverses = ...\n",
        "\n",
        "for key, matrix in pseudo_inverses.items():\n",
        "    # 处理键以创建文件名\n",
        "    str1, str2 = key\n",
        "    str1 = str1.replace('/', '---')\n",
        "    str2 = str2.replace('/', '---')\n",
        "    save_name = f\"{str1}__{str2}.parquet\"\n",
        "    save_path = os.path.join(save_folder, save_name)\n",
        "\n",
        "    # 将矩阵转换为DataFrame，并指定列名\n",
        "    column_names = [f\"matrix_{i}\" for i in range(matrix.shape[1])]\n",
        "    df = pd.DataFrame(matrix, columns=column_names)\n",
        "\n",
        "    # 保存数据到Parquet文件\n",
        "    df.to_parquet(save_path)\n",
        "\n",
        "print(\"数据保存完毕！\")\n"
      ],
      "metadata": {
        "colab": {
          "base_uri": "https://localhost:8080/"
        },
        "id": "aaga3I1GfJQa",
        "outputId": "3f9691ff-57d5-49b4-c0ce-ded7e1ee676e"
      },
      "execution_count": 30,
      "outputs": [
        {
          "output_type": "stream",
          "name": "stdout",
          "text": [
            "数据保存完毕！\n"
          ]
        }
      ]
    },
    {
      "cell_type": "markdown",
      "source": [
        "实现另一段python程序\n",
        "\n",
        "把/content/output下的文件压缩到/content/inverses.zip"
      ],
      "metadata": {
        "id": "QtlZ-bxnkRmQ"
      }
    },
    {
      "cell_type": "code",
      "source": [
        "import os\n",
        "import zipfile\n",
        "\n",
        "# 指定源文件夹和目标ZIP文件的路径\n",
        "source_folder = '/content/output'\n",
        "zip_file_path = '/content/inverses.zip'\n",
        "\n",
        "# 创建一个ZipFile对象以写入模式\n",
        "with zipfile.ZipFile(zip_file_path, 'w', zipfile.ZIP_DEFLATED) as zipf:\n",
        "    # 遍历source_folder中的所有文件\n",
        "    for root, dirs, files in os.walk(source_folder):\n",
        "        for file in files:\n",
        "            # 创建文件的完整路径\n",
        "            file_path = os.path.join(root, file)\n",
        "            # 将文件添加到zip文件中\n",
        "            # arcname参数用于去除文件的源目录路径\n",
        "            zipf.write(file_path, arcname=os.path.relpath(file_path, source_folder))\n",
        "\n",
        "print(\"文件压缩完成！\")\n"
      ],
      "metadata": {
        "colab": {
          "base_uri": "https://localhost:8080/"
        },
        "id": "f8cKWj8ykRUK",
        "outputId": "7925aa97-9df5-4a44-9651-853bc90141b7"
      },
      "execution_count": 31,
      "outputs": [
        {
          "output_type": "stream",
          "name": "stdout",
          "text": [
            "文件压缩完成！\n"
          ]
        }
      ]
    },
    {
      "cell_type": "code",
      "source": [
        "!pip install -q datasets"
      ],
      "metadata": {
        "id": "w-uAepQumNCE"
      },
      "execution_count": null,
      "outputs": []
    },
    {
      "cell_type": "code",
      "source": [
        "\n",
        "\n",
        "from datasets import load_dataset\n",
        "\n",
        "dataset = load_dataset(\"silk-road/Embedding-Adapter\",data_files={'train':\"BAAI---bge-base-zh-v1.5__BAAI---bge-large-zh-v1.5.parquet\"})"
      ],
      "metadata": {
        "colab": {
          "base_uri": "https://localhost:8080/",
          "height": 177,
          "referenced_widgets": [
            "beae13b3e3ea487f94106f7cd0a53131",
            "697c52f930cf415995e32a194ca1bb32",
            "6a99cf24446444d3a21c3f569fc06f10",
            "b324e701e6f9468e805f7cf309399168",
            "3cafaa24e18f4ea886163dfcee36b989",
            "b9878b86d2b24b72a4d6c02989478c6d",
            "2f7f90b39f3e43718b1dd70f5a2eb260",
            "5a21d5cc7dd8494d8c1aabf147b87daa",
            "f38fbb67d38a408db407c29bca704289",
            "76e5e6bf2ca442aea42a60090e11a0ab",
            "94d82de1021f449daec4ba7907830c1d",
            "5a7b9bdf757c4a719e4413c88df17742",
            "9b9d603d471b4c0a87d09ee289f26efe",
            "bf52bbfd7a79492ca5c3ec1eb05f5ead",
            "0696aeae7c954d0194abc9ae858d6312",
            "2748e8c6f3924ec6b4349c3e506af4de",
            "3711615804434051ad414e2f320cc6ea",
            "bf8979e24db948789ca9f855b6aea997",
            "41f671cb2a164eaea77450bdc07f8cca",
            "183fefb5331d42d896102ac150352354",
            "c7667fa6cf884245823d9fd3f2a7be92",
            "f4e745ab49884f45a2943ba601ea9c21",
            "8d58f8c6a9444c3da58600f3cf7dfe1a",
            "b8acc69ed590483380faf62163fe9466",
            "8089f8274a61451fb526f26b9a02f508",
            "dd6f70b9dc854f4d9d45ff9f4536ae37",
            "55489b8711814e69adb5f33daf3a619a",
            "704394ebcb1d4f77bdf81f2661b43291",
            "c482476cfb1048bc87c22c4facc96e58",
            "9f7169010caf4e9fb79320714730d0f3",
            "5bf8adac89104f71a99e1e6ad93add3f",
            "df988d7307604593ab4ea29327fd0d2d",
            "e9e047509d31417680c76df288293c3a",
            "493ca579acbc4f9994f2501c93bb12dd",
            "c3c0d19b9413472e8326da700f9fec1d",
            "b79464d0f5b54b31ad3c77f1cf2963fc",
            "2d63eddc432946d28bac547657d37245",
            "1cd76274d06e4e4498f58f3a90feb468",
            "4639338a1cba47199feaa30cc3dc8ad0",
            "1b679451cb5c4a229db40e5f2ca75c51",
            "f751d66eb93f4609bf871e1c57cde728",
            "37d27f1082884529b0cd19daadf93dc0",
            "d07ff1d99a604a22901ca3817f494bfc",
            "53576f97206249108f7ffd7b315e5d38",
            "7c17a1c22aa8479bbe3c0fd096103d15",
            "68dc1769c004448bbf2e6e77e9307714",
            "4e9ed4bd75c546fea533c524ab9e1b37",
            "3b672558c45a4ce7b6dbcaeacd960f30",
            "917c1d403e5948c3b47752a133262b21",
            "3a8ee753a02f4fcab0e7b4384a190926",
            "7573eb389c2442e69aee67f47f4d361f",
            "d157f218c3b24bbcbb258aee188b5129",
            "1ed97cd7a28a4af39256ac8e83971a3a",
            "39ef2f83f7144327ad0773be46907eaa",
            "4989fa26136d40b8bfe3eb731873ff13"
          ]
        },
        "id": "DkUsHWbFl2DL",
        "outputId": "b8a74c05-5670-4da9-e848-6ed5f1908ab1"
      },
      "execution_count": 32,
      "outputs": [
        {
          "output_type": "display_data",
          "data": {
            "text/plain": [
              "Downloading readme:   0%|          | 0.00/28.0 [00:00<?, ?B/s]"
            ],
            "application/vnd.jupyter.widget-view+json": {
              "version_major": 2,
              "version_minor": 0,
              "model_id": "beae13b3e3ea487f94106f7cd0a53131"
            }
          },
          "metadata": {}
        },
        {
          "output_type": "display_data",
          "data": {
            "text/plain": [
              "Downloading data files:   0%|          | 0/1 [00:00<?, ?it/s]"
            ],
            "application/vnd.jupyter.widget-view+json": {
              "version_major": 2,
              "version_minor": 0,
              "model_id": "5a7b9bdf757c4a719e4413c88df17742"
            }
          },
          "metadata": {}
        },
        {
          "output_type": "display_data",
          "data": {
            "text/plain": [
              "Downloading data:   0%|          | 0.00/4.41M [00:00<?, ?B/s]"
            ],
            "application/vnd.jupyter.widget-view+json": {
              "version_major": 2,
              "version_minor": 0,
              "model_id": "8d58f8c6a9444c3da58600f3cf7dfe1a"
            }
          },
          "metadata": {}
        },
        {
          "output_type": "display_data",
          "data": {
            "text/plain": [
              "Extracting data files:   0%|          | 0/1 [00:00<?, ?it/s]"
            ],
            "application/vnd.jupyter.widget-view+json": {
              "version_major": 2,
              "version_minor": 0,
              "model_id": "493ca579acbc4f9994f2501c93bb12dd"
            }
          },
          "metadata": {}
        },
        {
          "output_type": "display_data",
          "data": {
            "text/plain": [
              "Generating train split: 0 examples [00:00, ? examples/s]"
            ],
            "application/vnd.jupyter.widget-view+json": {
              "version_major": 2,
              "version_minor": 0,
              "model_id": "7c17a1c22aa8479bbe3c0fd096103d15"
            }
          },
          "metadata": {}
        }
      ]
    },
    {
      "cell_type": "code",
      "source": [
        "import numpy as np\n",
        "from tqdm import tqdm\n",
        "def load_matrix( dataset ):\n",
        "    n_row = len(dataset[\"train\"])\n",
        "    n_col = len(dataset[\"train\"][0])\n",
        "    matrix = np.zeros((n_row,n_col), dtype = float )\n",
        "    for i in tqdm(range(n_row)):\n",
        "        matrix[i] = list( dataset[\"train\"][i].values())\n",
        "        # for j in range(n_col):\n",
        "        #     matrix[i,j] = dataset[\"train\"][i]['matrix_'+ str(j)]\n",
        "    return matrix\n",
        "\n",
        "matrix = load_matrix(dataset)\n"
      ],
      "metadata": {
        "colab": {
          "base_uri": "https://localhost:8080/"
        },
        "id": "KjVirfz1p7Eh",
        "outputId": "9fa03bd0-5bf8-4560-8a41-bd822adae878"
      },
      "execution_count": 50,
      "outputs": [
        {
          "output_type": "stream",
          "name": "stderr",
          "text": [
            "100%|██████████| 768/768 [00:08<00:00, 88.00it/s]\n"
          ]
        }
      ]
    },
    {
      "cell_type": "markdown",
      "source": [
        "\n",
        "\n",
        "我想验证这个载入后的matrix\n",
        "\n",
        "和 矩阵 pseudo_inverses[('BAAI/bge-large-zh-v1.5', 'BAAI/bge-base-zh-v1.5')] 之间的差异，对于每个矩阵元素，如果有0.1%的元素误差，则count+1，统计这样的元素的个数"
      ],
      "metadata": {
        "id": "fp2IVOEIroow"
      }
    },
    {
      "cell_type": "code",
      "source": [
        "import numpy as np\n",
        "\n",
        "# 假设 matrix 和 pseudo_inverse_matrix 已经被定义和加载\n",
        "# matrix = load_matrix(dataset)\n",
        "pseudo_inverse_matrix = pseudo_inverses[('BAAI/bge-base-zh-v1.5','BAAI/bge-large-zh-v1.5')]\n",
        "\n",
        "# 计算两个矩阵之间的差异\n",
        "difference = matrix - pseudo_inverse_matrix\n",
        "\n",
        "# 计算相对误差，避免除以零\n",
        "with np.errstate(divide='ignore', invalid='ignore'):\n",
        "    relative_error = np.abs(difference / pseudo_inverse_matrix)\n",
        "    relative_error[pseudo_inverse_matrix == 0] = 0  # 如果原始矩阵中的元素为0，则设置相对误差为0\n",
        "\n",
        "# 统计误差超过0.1%的元素个数\n",
        "error_threshold = 0.001  # 0.1%\n",
        "count = np.sum(relative_error > error_threshold)\n",
        "\n",
        "print(f\"误差超过0.1%的元素个数: {count}\")\n"
      ],
      "metadata": {
        "colab": {
          "base_uri": "https://localhost:8080/"
        },
        "id": "7SazNIPMp8Ey",
        "outputId": "a1760a02-e274-42a0-949a-017261ee19f9"
      },
      "execution_count": 53,
      "outputs": [
        {
          "output_type": "stream",
          "name": "stdout",
          "text": [
            "误差超过0.1%的元素个数: 0\n"
          ]
        }
      ]
    },
    {
      "cell_type": "code",
      "source": [
        "\n",
        "from datasets import load_dataset\n",
        "import numpy as np\n",
        "from tqdm import tqdm\n",
        "def load_matrix( dataset ):\n",
        "    n_row = len(dataset[\"train\"])\n",
        "    n_col = len(dataset[\"train\"][0])\n",
        "    matrix = np.zeros((n_row,n_col), dtype = float )\n",
        "    for i in tqdm(range(n_row)):\n",
        "        matrix[i] = list( dataset[\"train\"][i].values())\n",
        "    return matrix\n",
        "\n",
        "\n",
        "class HFAdapter:\n",
        "    def __init__(self, source_long_name, target_long_name, model_name = None):\n",
        "        self.source_long_name = source_long_name\n",
        "        self.target_long_name = target_long_name\n",
        "        # 初始化任何必要的资源\n",
        "        self.pesudo_inverse = self.get_pesudo_inverse(source_long_name, target_long_name, model_name)\n",
        "\n",
        "\n",
        "    def get_pesudo_inverse( self,source_long_name, target_long_name , model_name = None):\n",
        "        if model_name == None:\n",
        "            str1 = source_long_name.replace(\"/\",\"---\")\n",
        "            str2 = target_long_name.replace(\"/\",\"---\")\n",
        "            model_name = str1 + \"__\" + str2 + \".parquet\"\n",
        "            dataset = load_dataset(\"silk-road/Embedding-Adapter\",data_files={'train':model_name})\n",
        "        else:\n",
        "            print(\"try download adapte model from \", model_name , \" but not yet implemented loading code\")\n",
        "\n",
        "        return load_matrix(dataset)\n",
        "\n",
        "    def convert(self, input_embedding, output_format):\n",
        "        # 这里实现转换逻辑\n",
        "        if isinstance(input_embedding, list):\n",
        "            input_embedding = np.array(input_embedding)\n",
        "\n",
        "        # input_embedding is 1 * input_dim np array\n",
        "        # self.pesudo_inverse is input_dim * output_dim np array\n",
        "        # output_embedding is 1 * output_dim np array\n",
        "        output_embedding = np.matmul(input_embedding, self.pesudo_inverse)\n",
        "\n",
        "        if output_format == \"np\":\n",
        "            return output_embedding\n",
        "        elif output_format == \"list\":\n",
        "            return output_embedding.tolist()\n",
        "        else:\n",
        "            raise ValueError(\"Unsupported output format\")\n"
      ],
      "metadata": {
        "id": "PPf2JJYiqYz6"
      },
      "execution_count": 54,
      "outputs": []
    },
    {
      "cell_type": "code",
      "source": [
        "\n",
        "%cd /content\n",
        "!rm -rf /content/Embed-Adapter\n",
        "!git clone https://github.com/LC1332/Embed-Adapter\n",
        "%cd /content/Embed-Adapter"
      ],
      "metadata": {
        "colab": {
          "base_uri": "https://localhost:8080/"
        },
        "id": "QCLiKmfPuyDx",
        "outputId": "75efaa41-44f8-4190-e647-20877f3692f5"
      },
      "execution_count": 55,
      "outputs": [
        {
          "output_type": "stream",
          "name": "stdout",
          "text": [
            "/content\n",
            "Cloning into 'Embed-Adapter'...\n",
            "remote: Enumerating objects: 145, done.\u001b[K\n",
            "remote: Counting objects: 100% (30/30), done.\u001b[K\n",
            "remote: Compressing objects: 100% (23/23), done.\u001b[K\n",
            "remote: Total 145 (delta 11), reused 16 (delta 7), pack-reused 115\u001b[K\n",
            "Receiving objects: 100% (145/145), 36.81 MiB | 3.86 MiB/s, done.\n",
            "Resolving deltas: 100% (73/73), done.\n",
            "/content/Embed-Adapter\n"
          ]
        }
      ]
    },
    {
      "cell_type": "code",
      "source": [
        "from EmbedAdapter.utils import get_general_embedding"
      ],
      "metadata": {
        "id": "QE_bf2NSu3yl"
      },
      "execution_count": 57,
      "outputs": []
    },
    {
      "cell_type": "code",
      "source": [
        "\n",
        "# 创建适配器实例\n",
        "adapter = HFAdapter(\"BAAI/bge-small-zh-v1.5\", \"openai\")\n",
        "\n",
        "bge_embedding = get_general_embedding(\"我爱北京天安门\", model_name = \"BAAI/bge-small-zh-v1.5\")\n",
        "print(len(bge_embedding))\n",
        "\n",
        "# 使用适配器转换embedding\n",
        "openai_embedding = adapter.convert(bge_embedding,\"list\")\n",
        "\n",
        "print(len(openai_embedding))"
      ],
      "metadata": {
        "colab": {
          "base_uri": "https://localhost:8080/"
        },
        "id": "dUJ8mpW8uj3Z",
        "outputId": "b50d3647-ac26-4cdd-e62a-fe0fe61c7dfe"
      },
      "execution_count": 60,
      "outputs": [
        {
          "output_type": "stream",
          "name": "stderr",
          "text": [
            "100%|██████████| 512/512 [00:08<00:00, 62.56it/s]"
          ]
        },
        {
          "output_type": "stream",
          "name": "stdout",
          "text": [
            "512\n",
            "1536\n"
          ]
        },
        {
          "output_type": "stream",
          "name": "stderr",
          "text": [
            "\n"
          ]
        }
      ]
    },
    {
      "cell_type": "code",
      "source": [],
      "metadata": {
        "id": "lwi3mZ7Bu85Q"
      },
      "execution_count": null,
      "outputs": []
    }
  ]
}