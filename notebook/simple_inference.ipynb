{
  "nbformat": 4,
  "nbformat_minor": 0,
  "metadata": {
    "colab": {
      "provenance": [],
      "authorship_tag": "ABX9TyPN+sOH40TFuJMLDZx5vX9O",
      "include_colab_link": true
    },
    "kernelspec": {
      "name": "python3",
      "display_name": "Python 3"
    },
    "language_info": {
      "name": "python"
    }
  },
  "cells": [
    {
      "cell_type": "markdown",
      "metadata": {
        "id": "view-in-github",
        "colab_type": "text"
      },
      "source": [
        "<a href=\"https://colab.research.google.com/github/LC1332/Embed-Adapter/blob/main/notebook/simple_inference.ipynb\" target=\"_parent\"><img src=\"https://colab.research.google.com/assets/colab-badge.svg\" alt=\"Open In Colab\"/></a>"
      ]
    },
    {
      "cell_type": "markdown",
      "source": [
        "最小inference代码"
      ],
      "metadata": {
        "id": "cZ-IaGG0SY6U"
      }
    },
    {
      "cell_type": "code",
      "execution_count": 1,
      "metadata": {
        "colab": {
          "base_uri": "https://localhost:8080/"
        },
        "id": "iKUbBqZ5SWHv",
        "outputId": "f019870f-f2ad-44af-f6c9-7af115f429ee"
      },
      "outputs": [
        {
          "output_type": "stream",
          "name": "stdout",
          "text": [
            "/content\n",
            "Cloning into 'Embed-Adapter'...\n",
            "remote: Enumerating objects: 47, done.\u001b[K\n",
            "remote: Counting objects: 100% (47/47), done.\u001b[K\n",
            "remote: Compressing objects: 100% (35/35), done.\u001b[K\n",
            "remote: Total 47 (delta 19), reused 22 (delta 7), pack-reused 0\u001b[K\n",
            "Receiving objects: 100% (47/47), 8.09 MiB | 16.61 MiB/s, done.\n",
            "Resolving deltas: 100% (19/19), done.\n",
            "/content/Embed-Adapter\n"
          ]
        }
      ],
      "source": [
        "%cd /content\n",
        "!rm -rf /content/Embed-Adapter\n",
        "!git clone https://github.com/LC1332/Embed-Adapter\n",
        "%cd /content/Embed-Adapter\n"
      ]
    },
    {
      "cell_type": "code",
      "source": [
        "!ls EmbedAdapter"
      ],
      "metadata": {
        "colab": {
          "base_uri": "https://localhost:8080/"
        },
        "id": "9s9qEcfqSysj",
        "outputId": "e3432b18-80fa-4872-cf6a-a577271e383c"
      },
      "execution_count": 2,
      "outputs": [
        {
          "output_type": "stream",
          "name": "stdout",
          "text": [
            "EmbedAdapter.py  __init__.py  model_name_mapping.py  NaiveAdapter.py  utils.py\n"
          ]
        }
      ]
    },
    {
      "cell_type": "code",
      "source": [],
      "metadata": {
        "id": "iWbe60sLSjwE"
      },
      "execution_count": 4,
      "outputs": []
    },
    {
      "cell_type": "code",
      "source": [
        "#@title 定义bge的函数\n",
        "from tqdm import tqdm\n",
        "import torch\n",
        "\n",
        "_model_pool = {}\n",
        "_tokenizer_pool = {}\n",
        "\n",
        "# BAAI/bge-small-zh-v1.5\n",
        "\n",
        "def get_general_embeddings( sentences , model_name = \"BAAI/bge-small-zh-v1.5\" , return_tensor = False):\n",
        "\n",
        "    global _model_pool\n",
        "    global _tokenizer_pool\n",
        "\n",
        "    if model_name not in _model_pool:\n",
        "        from transformers import AutoTokenizer, AutoModel\n",
        "        _tokenizer_pool[model_name] = AutoTokenizer.from_pretrained(model_name)\n",
        "        _model_pool[model_name] = AutoModel.from_pretrained(model_name)\n",
        "\n",
        "    _model_pool[model_name].eval()\n",
        "\n",
        "    # Tokenize sentences\n",
        "    encoded_input = _tokenizer_pool[model_name](sentences, padding=True, truncation=True, return_tensors='pt', max_length = 512)\n",
        "\n",
        "    # Compute token embeddings\n",
        "    with torch.no_grad():\n",
        "        model_output = _model_pool[model_name](**encoded_input)\n",
        "        # Perform pooling. In this case, cls pooling.\n",
        "        sentence_embeddings = model_output[0][:, 0]\n",
        "\n",
        "    # normalize embeddings\n",
        "    sentence_embeddings = torch.nn.functional.normalize(sentence_embeddings, p=2, dim=1)\n",
        "    if return_tensor == True:\n",
        "        return sentence_embeddings\n",
        "    return sentence_embeddings.cpu().tolist()\n",
        "\n",
        "def get_general_embedding( text_or_texts , model_name = \"BAAI/bge-small-zh-v1.5\" ):\n",
        "    if isinstance(text_or_texts, str):\n",
        "        return get_general_embeddings([text_or_texts], model_name)[0]\n",
        "    else:\n",
        "        return get_general_embeddings_safe(text_or_texts, model_name)\n",
        "\n",
        "general_batch_size = 16\n",
        "\n",
        "import math\n",
        "\n",
        "def get_general_embeddings_safe(sentences, model_name = \"BAAI/bge-small-zh-v1.5\"):\n",
        "\n",
        "    embeddings = []\n",
        "\n",
        "    num_batches = math.ceil(len(sentences) / general_batch_size)\n",
        "\n",
        "    for i in tqdm( range(num_batches) ):\n",
        "        # print(\"run bge with batch \", i)\n",
        "        start_index = i * general_batch_size\n",
        "        end_index = min(len(sentences), start_index + general_batch_size)\n",
        "        batch = sentences[start_index:end_index]\n",
        "        embs = get_general_embeddings(batch, model_name)\n",
        "        embeddings.extend(embs)\n",
        "\n",
        "    return embeddings\n",
        "\n",
        "def get_bge_zh_embedding( text_or_texts ):\n",
        "    return get_general_embedding(text_or_texts, \"BAAI/bge-small-zh-v1.5\")"
      ],
      "metadata": {
        "cellView": "form",
        "id": "6VZKDz72SqSt"
      },
      "execution_count": 5,
      "outputs": []
    },
    {
      "cell_type": "markdown",
      "source": [
        "进行适配"
      ],
      "metadata": {
        "id": "xvquObWeVAdr"
      }
    },
    {
      "cell_type": "code",
      "source": [
        "from EmbedAdapter import EmbedAdapter\n",
        "\n",
        "# 创建适配器实例\n",
        "adapter = EmbedAdapter(source=\"BAAI/bge-small-zh-v1.5\", output=\"openai\")\n",
        "\n",
        "bge_embedding = get_general_embedding(\"我爱北京天安门\", model_name = \"BAAI/bge-small-zh-v1.5\")\n",
        "print(len(bge_embedding))\n",
        "\n",
        "# 使用适配器转换embedding\n",
        "openai_embedding = adapter(bge_embedding)\n",
        "\n",
        "print(len(openai_embedding))"
      ],
      "metadata": {
        "colab": {
          "base_uri": "https://localhost:8080/"
        },
        "id": "HVTpLkAmUs1w",
        "outputId": "f9bf7a09-63ec-429e-bd06-ab263f27a84c"
      },
      "execution_count": 11,
      "outputs": [
        {
          "output_type": "stream",
          "name": "stdout",
          "text": [
            "512\n",
            "1536\n"
          ]
        }
      ]
    },
    {
      "cell_type": "code",
      "source": [],
      "metadata": {
        "id": "dmX-Kh5BUwcx"
      },
      "execution_count": null,
      "outputs": []
    }
  ]
}